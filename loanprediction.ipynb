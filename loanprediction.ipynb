import numpy as np # linear algebra
import pandas as pd # data processing, CSV file I/O (e.g. pd.read_csv)
# Show the Dataset Path to get detaset

import os

for dirname, _, filenames in os.walk('/kaggle/input'):
    for filename in filenames:
        print(os.path.join(dirname, filename))
loan_train = pd.read_csv('loan-train.csv')
loan_test = pd.read_csv('loan-test.csv')
loan_train.head()
