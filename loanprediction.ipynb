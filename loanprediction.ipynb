import numpy as np # linear algebra
import pandas as pd # data processing, CSV file I/O (e.g. pd.read_csv)
# Show the Dataset Path to get detaset

import os

for dirname, _, filenames in os.walk('/kaggle/input'):
    for filename in filenames:
        print(os.path.join(dirname, filename))
loan_train = pd.read_csv('loan-train.csv')
loan_test = pd.read_csv('loan-test.csv')
loan_train.head()
loan_train
print("Rows: ", len(loan_train))
print("Columns: ", len(loan_train.columns))
print("Shape : ", loan_train.shape)
loan_train_columns = loan_train.columns # assign to a variable
loan_train_columns # print the list of columns
loan_train.describe()
loan_train.info()
def explore_object_type(df ,feature_name):    
    if df[feature_name].dtype ==  'object':
        print(df[feature_name].value_counts())
# Now, Test and Call a function for gender only
explore_object_type(loan_train, 'Gender')
for featureName in loan_train_columns:
    if loan_train[featureName].dtype == 'object':
        print('\n"' + str(featureName) + '\'s" Values with count are :')
        explore_object_type(loan_train, str(featureName))
